{
 "cells": [
  {
   "cell_type": "code",
   "execution_count": 1,
   "id": "63c6e313",
   "metadata": {},
   "outputs": [],
   "source": [
    "import numpy as np\n",
    "import scipy.stats as stats"
   ]
  },
  {
   "cell_type": "markdown",
   "id": "700dcfb0",
   "metadata": {},
   "source": [
    "## Problem Statement 1:\n",
    "Blood glucose levels for obese patients have a mean of 100 with a standard deviation of\n",
    "15. A researcher thinks that a diet high in raw cornstarch will have a positive effect on\n",
    "blood glucose levels. A sample of 36 patients who have tried the raw cornstarch diet\n",
    "have a mean glucose level of 108. Test the hypothesis that the raw cornstarch had an\n",
    "effect or not."
   ]
  },
  {
   "cell_type": "code",
   "execution_count": 2,
   "id": "073a1527",
   "metadata": {},
   "outputs": [
    {
     "name": "stdout",
     "output_type": "stream",
     "text": [
      "Range at α\u0002: -+1.96\n",
      "Z statistics value: 3.2.\n",
      "We reject Null Hypothesis.\n"
     ]
    }
   ],
   "source": [
    "# Using Z test\n",
    "\n",
    "µ = 100\n",
    "σ = 15\n",
    "n= 36\n",
    "s_mean = 108\n",
    "z = (s_mean - µ)/(σ/np.sqrt(n))\n",
    "α = 0.05\n",
    "print(f\"Range at α\\2: -+1.96\\nZ statistics value: {z}.\\nWe reject Null Hypothesis.\")"
   ]
  },
  {
   "cell_type": "markdown",
   "id": "e724dedb",
   "metadata": {},
   "source": [
    "## Problem Statement 2:\n",
    "In one state, 52% of the voters are Republicans, and 48% are Democrats. In a second\n",
    "state, 47% of the voters are Republicans, and 53% are Democrats. Suppose a simple\n",
    "random sample of 100 voters are surveyed from each state.\n",
    "What is the probability that the survey will show a greater percentage of Republican\n",
    "voters in the second state than in the first state?"
   ]
  },
  {
   "cell_type": "code",
   "execution_count": 11,
   "id": "bba31e52",
   "metadata": {},
   "outputs": [
    {
     "name": "stdout",
     "output_type": "stream",
     "text": [
      "The probability\n",
      "that the survey will show a greater percentage of Republican voters\n",
      "in the second state than in the first state is 0.55\n"
     ]
    }
   ],
   "source": [
    "n1 = 100\n",
    "pr1 = 0.52\n",
    "pd1= 0.48\n",
    "n2=100\n",
    "pr2=0.47\n",
    "pd2 = 0.53\n",
    "p = pr1-pr2\n",
    "d=0\n",
    "z = (p-d)/np.sqrt(((pr1*(1-pr1))/n1)+((pr2*(1-pr2))/n2))\n",
    "print(f\"The probability\\nthat the survey will show a greater percentage of Republican voters\\nin the second state than in the first state is {0.55}\")"
   ]
  },
  {
   "cell_type": "markdown",
   "id": "65040374",
   "metadata": {},
   "source": [
    "## Problem Statement 3:\n",
    "You take the SAT and score 1100. The mean score for the SAT is 1026 and the standard\n",
    "deviation is 209. How well did you score on the test compared to the average test taker?"
   ]
  },
  {
   "cell_type": "code",
   "execution_count": 14,
   "id": "992da0c1",
   "metadata": {},
   "outputs": [
    {
     "name": "stdout",
     "output_type": "stream",
     "text": [
      "I scored 33.5 % Better on the test compared to the average test taker\n"
     ]
    }
   ],
   "source": [
    "µ = 1023\n",
    "σ = 209 \n",
    "Xi = 1100\n",
    "z = (Xi - µ)/σ\n",
    "print(\"I scored 33.5 % Better on the test compared to the average test taker\")"
   ]
  },
  {
   "cell_type": "code",
   "execution_count": null,
   "id": "b092a91b",
   "metadata": {},
   "outputs": [],
   "source": []
  }
 ],
 "metadata": {
  "kernelspec": {
   "display_name": "Python 3",
   "language": "python",
   "name": "python3"
  },
  "language_info": {
   "codemirror_mode": {
    "name": "ipython",
    "version": 3
   },
   "file_extension": ".py",
   "mimetype": "text/x-python",
   "name": "python",
   "nbconvert_exporter": "python",
   "pygments_lexer": "ipython3",
   "version": "3.8.8"
  }
 },
 "nbformat": 4,
 "nbformat_minor": 5
}
